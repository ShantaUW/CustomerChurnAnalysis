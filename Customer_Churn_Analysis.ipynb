{
 "cells": [
  {
   "cell_type": "markdown",
   "metadata": {},
   "source": [
    "## Read The DataSet"
   ]
  },
  {
   "cell_type": "code",
   "execution_count": 3,
   "metadata": {},
   "outputs": [
    {
     "data": {
      "text/html": [
       "<div>\n",
       "<style scoped>\n",
       "    .dataframe tbody tr th:only-of-type {\n",
       "        vertical-align: middle;\n",
       "    }\n",
       "\n",
       "    .dataframe tbody tr th {\n",
       "        vertical-align: top;\n",
       "    }\n",
       "\n",
       "    .dataframe thead th {\n",
       "        text-align: right;\n",
       "    }\n",
       "</style>\n",
       "<table border=\"1\" class=\"dataframe\">\n",
       "  <thead>\n",
       "    <tr style=\"text-align: right;\">\n",
       "      <th></th>\n",
       "      <th>Account_Length</th>\n",
       "      <th>Vmail_Message</th>\n",
       "      <th>Day_Mins</th>\n",
       "      <th>Eve_Mins</th>\n",
       "      <th>Night_Mins</th>\n",
       "      <th>Intl_Mins</th>\n",
       "      <th>CustServ_Calls</th>\n",
       "      <th>Churn</th>\n",
       "      <th>Intl_Plan</th>\n",
       "      <th>Vmail_Plan</th>\n",
       "      <th>...</th>\n",
       "      <th>Day_Charge</th>\n",
       "      <th>Eve_Calls</th>\n",
       "      <th>Eve_Charge</th>\n",
       "      <th>Night_Calls</th>\n",
       "      <th>Night_Charge</th>\n",
       "      <th>Intl_Calls</th>\n",
       "      <th>Intl_Charge</th>\n",
       "      <th>State</th>\n",
       "      <th>Area_Code</th>\n",
       "      <th>Phone</th>\n",
       "    </tr>\n",
       "  </thead>\n",
       "  <tbody>\n",
       "    <tr>\n",
       "      <td>0</td>\n",
       "      <td>128</td>\n",
       "      <td>25</td>\n",
       "      <td>265.1</td>\n",
       "      <td>197.4</td>\n",
       "      <td>244.7</td>\n",
       "      <td>10.0</td>\n",
       "      <td>1</td>\n",
       "      <td>no</td>\n",
       "      <td>no</td>\n",
       "      <td>yes</td>\n",
       "      <td>...</td>\n",
       "      <td>45.07</td>\n",
       "      <td>99</td>\n",
       "      <td>16.78</td>\n",
       "      <td>91</td>\n",
       "      <td>11.01</td>\n",
       "      <td>3</td>\n",
       "      <td>2.70</td>\n",
       "      <td>KS</td>\n",
       "      <td>415</td>\n",
       "      <td>382-4657</td>\n",
       "    </tr>\n",
       "    <tr>\n",
       "      <td>1</td>\n",
       "      <td>107</td>\n",
       "      <td>26</td>\n",
       "      <td>161.6</td>\n",
       "      <td>195.5</td>\n",
       "      <td>254.4</td>\n",
       "      <td>13.7</td>\n",
       "      <td>1</td>\n",
       "      <td>no</td>\n",
       "      <td>no</td>\n",
       "      <td>yes</td>\n",
       "      <td>...</td>\n",
       "      <td>27.47</td>\n",
       "      <td>103</td>\n",
       "      <td>16.62</td>\n",
       "      <td>103</td>\n",
       "      <td>11.45</td>\n",
       "      <td>3</td>\n",
       "      <td>3.70</td>\n",
       "      <td>OH</td>\n",
       "      <td>415</td>\n",
       "      <td>371-7191</td>\n",
       "    </tr>\n",
       "    <tr>\n",
       "      <td>2</td>\n",
       "      <td>137</td>\n",
       "      <td>0</td>\n",
       "      <td>243.4</td>\n",
       "      <td>121.2</td>\n",
       "      <td>162.6</td>\n",
       "      <td>12.2</td>\n",
       "      <td>0</td>\n",
       "      <td>no</td>\n",
       "      <td>no</td>\n",
       "      <td>no</td>\n",
       "      <td>...</td>\n",
       "      <td>41.38</td>\n",
       "      <td>110</td>\n",
       "      <td>10.30</td>\n",
       "      <td>104</td>\n",
       "      <td>7.32</td>\n",
       "      <td>5</td>\n",
       "      <td>3.29</td>\n",
       "      <td>NJ</td>\n",
       "      <td>415</td>\n",
       "      <td>358-1921</td>\n",
       "    </tr>\n",
       "    <tr>\n",
       "      <td>3</td>\n",
       "      <td>84</td>\n",
       "      <td>0</td>\n",
       "      <td>299.4</td>\n",
       "      <td>61.9</td>\n",
       "      <td>196.9</td>\n",
       "      <td>6.6</td>\n",
       "      <td>2</td>\n",
       "      <td>no</td>\n",
       "      <td>yes</td>\n",
       "      <td>no</td>\n",
       "      <td>...</td>\n",
       "      <td>50.90</td>\n",
       "      <td>88</td>\n",
       "      <td>5.26</td>\n",
       "      <td>89</td>\n",
       "      <td>8.86</td>\n",
       "      <td>7</td>\n",
       "      <td>1.78</td>\n",
       "      <td>OH</td>\n",
       "      <td>408</td>\n",
       "      <td>375-9999</td>\n",
       "    </tr>\n",
       "    <tr>\n",
       "      <td>4</td>\n",
       "      <td>75</td>\n",
       "      <td>0</td>\n",
       "      <td>166.7</td>\n",
       "      <td>148.3</td>\n",
       "      <td>186.9</td>\n",
       "      <td>10.1</td>\n",
       "      <td>3</td>\n",
       "      <td>no</td>\n",
       "      <td>yes</td>\n",
       "      <td>no</td>\n",
       "      <td>...</td>\n",
       "      <td>28.34</td>\n",
       "      <td>122</td>\n",
       "      <td>12.61</td>\n",
       "      <td>121</td>\n",
       "      <td>8.41</td>\n",
       "      <td>3</td>\n",
       "      <td>2.73</td>\n",
       "      <td>OK</td>\n",
       "      <td>415</td>\n",
       "      <td>330-6626</td>\n",
       "    </tr>\n",
       "  </tbody>\n",
       "</table>\n",
       "<p>5 rows × 21 columns</p>\n",
       "</div>"
      ],
      "text/plain": [
       "   Account_Length  Vmail_Message  Day_Mins  Eve_Mins  Night_Mins  Intl_Mins  \\\n",
       "0             128             25     265.1     197.4       244.7       10.0   \n",
       "1             107             26     161.6     195.5       254.4       13.7   \n",
       "2             137              0     243.4     121.2       162.6       12.2   \n",
       "3              84              0     299.4      61.9       196.9        6.6   \n",
       "4              75              0     166.7     148.3       186.9       10.1   \n",
       "\n",
       "   CustServ_Calls Churn Intl_Plan Vmail_Plan  ...  Day_Charge  Eve_Calls  \\\n",
       "0               1    no        no        yes  ...       45.07         99   \n",
       "1               1    no        no        yes  ...       27.47        103   \n",
       "2               0    no        no         no  ...       41.38        110   \n",
       "3               2    no       yes         no  ...       50.90         88   \n",
       "4               3    no       yes         no  ...       28.34        122   \n",
       "\n",
       "   Eve_Charge  Night_Calls  Night_Charge  Intl_Calls  Intl_Charge  State  \\\n",
       "0       16.78           91         11.01           3         2.70     KS   \n",
       "1       16.62          103         11.45           3         3.70     OH   \n",
       "2       10.30          104          7.32           5         3.29     NJ   \n",
       "3        5.26           89          8.86           7         1.78     OH   \n",
       "4       12.61          121          8.41           3         2.73     OK   \n",
       "\n",
       "  Area_Code     Phone  \n",
       "0       415  382-4657  \n",
       "1       415  371-7191  \n",
       "2       415  358-1921  \n",
       "3       408  375-9999  \n",
       "4       415  330-6626  \n",
       "\n",
       "[5 rows x 21 columns]"
      ]
     },
     "execution_count": 3,
     "metadata": {},
     "output_type": "execute_result"
    }
   ],
   "source": [
    "import pandas as pd\n",
    "telco= pd.read_csv(\"Churn.csv\")\n",
    "telco.head(5)"
   ]
  },
  {
   "cell_type": "code",
   "execution_count": 4,
   "metadata": {},
   "outputs": [
    {
     "data": {
      "text/html": [
       "<div>\n",
       "<style scoped>\n",
       "    .dataframe tbody tr th:only-of-type {\n",
       "        vertical-align: middle;\n",
       "    }\n",
       "\n",
       "    .dataframe tbody tr th {\n",
       "        vertical-align: top;\n",
       "    }\n",
       "\n",
       "    .dataframe thead th {\n",
       "        text-align: right;\n",
       "    }\n",
       "</style>\n",
       "<table border=\"1\" class=\"dataframe\">\n",
       "  <thead>\n",
       "    <tr style=\"text-align: right;\">\n",
       "      <th></th>\n",
       "      <th>Account_Length</th>\n",
       "      <th>Vmail_Message</th>\n",
       "      <th>Day_Mins</th>\n",
       "      <th>Eve_Mins</th>\n",
       "      <th>Night_Mins</th>\n",
       "      <th>Intl_Mins</th>\n",
       "      <th>CustServ_Calls</th>\n",
       "      <th>Churn</th>\n",
       "      <th>Intl_Plan</th>\n",
       "      <th>Vmail_Plan</th>\n",
       "      <th>...</th>\n",
       "      <th>Day_Charge</th>\n",
       "      <th>Eve_Calls</th>\n",
       "      <th>Eve_Charge</th>\n",
       "      <th>Night_Calls</th>\n",
       "      <th>Night_Charge</th>\n",
       "      <th>Intl_Calls</th>\n",
       "      <th>Intl_Charge</th>\n",
       "      <th>State</th>\n",
       "      <th>Area_Code</th>\n",
       "      <th>Phone</th>\n",
       "    </tr>\n",
       "  </thead>\n",
       "  <tbody>\n",
       "    <tr>\n",
       "      <td>3328</td>\n",
       "      <td>192</td>\n",
       "      <td>36</td>\n",
       "      <td>156.2</td>\n",
       "      <td>215.5</td>\n",
       "      <td>279.1</td>\n",
       "      <td>9.9</td>\n",
       "      <td>2</td>\n",
       "      <td>no</td>\n",
       "      <td>no</td>\n",
       "      <td>yes</td>\n",
       "      <td>...</td>\n",
       "      <td>26.55</td>\n",
       "      <td>126</td>\n",
       "      <td>18.32</td>\n",
       "      <td>83</td>\n",
       "      <td>12.56</td>\n",
       "      <td>6</td>\n",
       "      <td>2.67</td>\n",
       "      <td>AZ</td>\n",
       "      <td>415</td>\n",
       "      <td>414-4276</td>\n",
       "    </tr>\n",
       "    <tr>\n",
       "      <td>3329</td>\n",
       "      <td>68</td>\n",
       "      <td>0</td>\n",
       "      <td>231.1</td>\n",
       "      <td>153.4</td>\n",
       "      <td>191.3</td>\n",
       "      <td>9.6</td>\n",
       "      <td>3</td>\n",
       "      <td>no</td>\n",
       "      <td>no</td>\n",
       "      <td>no</td>\n",
       "      <td>...</td>\n",
       "      <td>39.29</td>\n",
       "      <td>55</td>\n",
       "      <td>13.04</td>\n",
       "      <td>123</td>\n",
       "      <td>8.61</td>\n",
       "      <td>4</td>\n",
       "      <td>2.59</td>\n",
       "      <td>WV</td>\n",
       "      <td>415</td>\n",
       "      <td>370-3271</td>\n",
       "    </tr>\n",
       "    <tr>\n",
       "      <td>3330</td>\n",
       "      <td>28</td>\n",
       "      <td>0</td>\n",
       "      <td>180.8</td>\n",
       "      <td>288.8</td>\n",
       "      <td>191.9</td>\n",
       "      <td>14.1</td>\n",
       "      <td>2</td>\n",
       "      <td>no</td>\n",
       "      <td>no</td>\n",
       "      <td>no</td>\n",
       "      <td>...</td>\n",
       "      <td>30.74</td>\n",
       "      <td>58</td>\n",
       "      <td>24.55</td>\n",
       "      <td>91</td>\n",
       "      <td>8.64</td>\n",
       "      <td>6</td>\n",
       "      <td>3.81</td>\n",
       "      <td>RI</td>\n",
       "      <td>510</td>\n",
       "      <td>328-8230</td>\n",
       "    </tr>\n",
       "    <tr>\n",
       "      <td>3331</td>\n",
       "      <td>184</td>\n",
       "      <td>0</td>\n",
       "      <td>213.8</td>\n",
       "      <td>159.6</td>\n",
       "      <td>139.2</td>\n",
       "      <td>5.0</td>\n",
       "      <td>2</td>\n",
       "      <td>no</td>\n",
       "      <td>yes</td>\n",
       "      <td>no</td>\n",
       "      <td>...</td>\n",
       "      <td>36.35</td>\n",
       "      <td>84</td>\n",
       "      <td>13.57</td>\n",
       "      <td>137</td>\n",
       "      <td>6.26</td>\n",
       "      <td>10</td>\n",
       "      <td>1.35</td>\n",
       "      <td>CT</td>\n",
       "      <td>510</td>\n",
       "      <td>364-6381</td>\n",
       "    </tr>\n",
       "    <tr>\n",
       "      <td>3332</td>\n",
       "      <td>74</td>\n",
       "      <td>25</td>\n",
       "      <td>234.4</td>\n",
       "      <td>265.9</td>\n",
       "      <td>241.4</td>\n",
       "      <td>13.7</td>\n",
       "      <td>0</td>\n",
       "      <td>no</td>\n",
       "      <td>no</td>\n",
       "      <td>yes</td>\n",
       "      <td>...</td>\n",
       "      <td>39.85</td>\n",
       "      <td>82</td>\n",
       "      <td>22.60</td>\n",
       "      <td>77</td>\n",
       "      <td>10.86</td>\n",
       "      <td>4</td>\n",
       "      <td>3.70</td>\n",
       "      <td>TN</td>\n",
       "      <td>415</td>\n",
       "      <td>400-4344</td>\n",
       "    </tr>\n",
       "  </tbody>\n",
       "</table>\n",
       "<p>5 rows × 21 columns</p>\n",
       "</div>"
      ],
      "text/plain": [
       "      Account_Length  Vmail_Message  Day_Mins  Eve_Mins  Night_Mins  \\\n",
       "3328             192             36     156.2     215.5       279.1   \n",
       "3329              68              0     231.1     153.4       191.3   \n",
       "3330              28              0     180.8     288.8       191.9   \n",
       "3331             184              0     213.8     159.6       139.2   \n",
       "3332              74             25     234.4     265.9       241.4   \n",
       "\n",
       "      Intl_Mins  CustServ_Calls Churn Intl_Plan Vmail_Plan  ...  Day_Charge  \\\n",
       "3328        9.9               2    no        no        yes  ...       26.55   \n",
       "3329        9.6               3    no        no         no  ...       39.29   \n",
       "3330       14.1               2    no        no         no  ...       30.74   \n",
       "3331        5.0               2    no       yes         no  ...       36.35   \n",
       "3332       13.7               0    no        no        yes  ...       39.85   \n",
       "\n",
       "      Eve_Calls  Eve_Charge  Night_Calls  Night_Charge  Intl_Calls  \\\n",
       "3328        126       18.32           83         12.56           6   \n",
       "3329         55       13.04          123          8.61           4   \n",
       "3330         58       24.55           91          8.64           6   \n",
       "3331         84       13.57          137          6.26          10   \n",
       "3332         82       22.60           77         10.86           4   \n",
       "\n",
       "      Intl_Charge  State Area_Code     Phone  \n",
       "3328         2.67     AZ       415  414-4276  \n",
       "3329         2.59     WV       415  370-3271  \n",
       "3330         3.81     RI       510  328-8230  \n",
       "3331         1.35     CT       510  364-6381  \n",
       "3332         3.70     TN       415  400-4344  \n",
       "\n",
       "[5 rows x 21 columns]"
      ]
     },
     "execution_count": 4,
     "metadata": {},
     "output_type": "execute_result"
    }
   ],
   "source": [
    "telco.tail(5)"
   ]
  },
  {
   "cell_type": "markdown",
   "metadata": {},
   "source": [
    "## Analysis"
   ]
  },
  {
   "cell_type": "code",
   "execution_count": 5,
   "metadata": {},
   "outputs": [
    {
     "data": {
      "text/html": [
       "<div>\n",
       "<style scoped>\n",
       "    .dataframe tbody tr th:only-of-type {\n",
       "        vertical-align: middle;\n",
       "    }\n",
       "\n",
       "    .dataframe tbody tr th {\n",
       "        vertical-align: top;\n",
       "    }\n",
       "\n",
       "    .dataframe thead th {\n",
       "        text-align: right;\n",
       "    }\n",
       "</style>\n",
       "<table border=\"1\" class=\"dataframe\">\n",
       "  <thead>\n",
       "    <tr style=\"text-align: right;\">\n",
       "      <th></th>\n",
       "      <th>Account_Length</th>\n",
       "      <th>Vmail_Message</th>\n",
       "      <th>Day_Mins</th>\n",
       "      <th>Eve_Mins</th>\n",
       "      <th>Night_Mins</th>\n",
       "      <th>Intl_Mins</th>\n",
       "      <th>CustServ_Calls</th>\n",
       "      <th>Day_Calls</th>\n",
       "      <th>Day_Charge</th>\n",
       "      <th>Eve_Calls</th>\n",
       "      <th>Eve_Charge</th>\n",
       "      <th>Night_Calls</th>\n",
       "      <th>Night_Charge</th>\n",
       "      <th>Intl_Calls</th>\n",
       "      <th>Intl_Charge</th>\n",
       "      <th>Area_Code</th>\n",
       "    </tr>\n",
       "  </thead>\n",
       "  <tbody>\n",
       "    <tr>\n",
       "      <td>count</td>\n",
       "      <td>3333.000000</td>\n",
       "      <td>3333.000000</td>\n",
       "      <td>3333.000000</td>\n",
       "      <td>3333.000000</td>\n",
       "      <td>3333.000000</td>\n",
       "      <td>3333.000000</td>\n",
       "      <td>3333.000000</td>\n",
       "      <td>3333.000000</td>\n",
       "      <td>3333.000000</td>\n",
       "      <td>3333.000000</td>\n",
       "      <td>3333.000000</td>\n",
       "      <td>3333.000000</td>\n",
       "      <td>3333.000000</td>\n",
       "      <td>3333.000000</td>\n",
       "      <td>3333.000000</td>\n",
       "      <td>3333.000000</td>\n",
       "    </tr>\n",
       "    <tr>\n",
       "      <td>mean</td>\n",
       "      <td>101.064806</td>\n",
       "      <td>8.099010</td>\n",
       "      <td>179.775098</td>\n",
       "      <td>200.980348</td>\n",
       "      <td>200.872037</td>\n",
       "      <td>10.237294</td>\n",
       "      <td>1.562856</td>\n",
       "      <td>100.435644</td>\n",
       "      <td>30.562307</td>\n",
       "      <td>100.114311</td>\n",
       "      <td>17.083540</td>\n",
       "      <td>100.107711</td>\n",
       "      <td>9.039325</td>\n",
       "      <td>4.479448</td>\n",
       "      <td>2.764581</td>\n",
       "      <td>437.182418</td>\n",
       "    </tr>\n",
       "    <tr>\n",
       "      <td>std</td>\n",
       "      <td>39.822106</td>\n",
       "      <td>13.688365</td>\n",
       "      <td>54.467389</td>\n",
       "      <td>50.713844</td>\n",
       "      <td>50.573847</td>\n",
       "      <td>2.791840</td>\n",
       "      <td>1.315491</td>\n",
       "      <td>20.069084</td>\n",
       "      <td>9.259435</td>\n",
       "      <td>19.922625</td>\n",
       "      <td>4.310668</td>\n",
       "      <td>19.568609</td>\n",
       "      <td>2.275873</td>\n",
       "      <td>2.461214</td>\n",
       "      <td>0.753773</td>\n",
       "      <td>42.371290</td>\n",
       "    </tr>\n",
       "    <tr>\n",
       "      <td>min</td>\n",
       "      <td>1.000000</td>\n",
       "      <td>0.000000</td>\n",
       "      <td>0.000000</td>\n",
       "      <td>0.000000</td>\n",
       "      <td>23.200000</td>\n",
       "      <td>0.000000</td>\n",
       "      <td>0.000000</td>\n",
       "      <td>0.000000</td>\n",
       "      <td>0.000000</td>\n",
       "      <td>0.000000</td>\n",
       "      <td>0.000000</td>\n",
       "      <td>33.000000</td>\n",
       "      <td>1.040000</td>\n",
       "      <td>0.000000</td>\n",
       "      <td>0.000000</td>\n",
       "      <td>408.000000</td>\n",
       "    </tr>\n",
       "    <tr>\n",
       "      <td>25%</td>\n",
       "      <td>74.000000</td>\n",
       "      <td>0.000000</td>\n",
       "      <td>143.700000</td>\n",
       "      <td>166.600000</td>\n",
       "      <td>167.000000</td>\n",
       "      <td>8.500000</td>\n",
       "      <td>1.000000</td>\n",
       "      <td>87.000000</td>\n",
       "      <td>24.430000</td>\n",
       "      <td>87.000000</td>\n",
       "      <td>14.160000</td>\n",
       "      <td>87.000000</td>\n",
       "      <td>7.520000</td>\n",
       "      <td>3.000000</td>\n",
       "      <td>2.300000</td>\n",
       "      <td>408.000000</td>\n",
       "    </tr>\n",
       "    <tr>\n",
       "      <td>50%</td>\n",
       "      <td>101.000000</td>\n",
       "      <td>0.000000</td>\n",
       "      <td>179.400000</td>\n",
       "      <td>201.400000</td>\n",
       "      <td>201.200000</td>\n",
       "      <td>10.300000</td>\n",
       "      <td>1.000000</td>\n",
       "      <td>101.000000</td>\n",
       "      <td>30.500000</td>\n",
       "      <td>100.000000</td>\n",
       "      <td>17.120000</td>\n",
       "      <td>100.000000</td>\n",
       "      <td>9.050000</td>\n",
       "      <td>4.000000</td>\n",
       "      <td>2.780000</td>\n",
       "      <td>415.000000</td>\n",
       "    </tr>\n",
       "    <tr>\n",
       "      <td>75%</td>\n",
       "      <td>127.000000</td>\n",
       "      <td>20.000000</td>\n",
       "      <td>216.400000</td>\n",
       "      <td>235.300000</td>\n",
       "      <td>235.300000</td>\n",
       "      <td>12.100000</td>\n",
       "      <td>2.000000</td>\n",
       "      <td>114.000000</td>\n",
       "      <td>36.790000</td>\n",
       "      <td>114.000000</td>\n",
       "      <td>20.000000</td>\n",
       "      <td>113.000000</td>\n",
       "      <td>10.590000</td>\n",
       "      <td>6.000000</td>\n",
       "      <td>3.270000</td>\n",
       "      <td>510.000000</td>\n",
       "    </tr>\n",
       "    <tr>\n",
       "      <td>max</td>\n",
       "      <td>243.000000</td>\n",
       "      <td>51.000000</td>\n",
       "      <td>350.800000</td>\n",
       "      <td>363.700000</td>\n",
       "      <td>395.000000</td>\n",
       "      <td>20.000000</td>\n",
       "      <td>9.000000</td>\n",
       "      <td>165.000000</td>\n",
       "      <td>59.640000</td>\n",
       "      <td>170.000000</td>\n",
       "      <td>30.910000</td>\n",
       "      <td>175.000000</td>\n",
       "      <td>17.770000</td>\n",
       "      <td>20.000000</td>\n",
       "      <td>5.400000</td>\n",
       "      <td>510.000000</td>\n",
       "    </tr>\n",
       "  </tbody>\n",
       "</table>\n",
       "</div>"
      ],
      "text/plain": [
       "       Account_Length  Vmail_Message     Day_Mins     Eve_Mins   Night_Mins  \\\n",
       "count     3333.000000    3333.000000  3333.000000  3333.000000  3333.000000   \n",
       "mean       101.064806       8.099010   179.775098   200.980348   200.872037   \n",
       "std         39.822106      13.688365    54.467389    50.713844    50.573847   \n",
       "min          1.000000       0.000000     0.000000     0.000000    23.200000   \n",
       "25%         74.000000       0.000000   143.700000   166.600000   167.000000   \n",
       "50%        101.000000       0.000000   179.400000   201.400000   201.200000   \n",
       "75%        127.000000      20.000000   216.400000   235.300000   235.300000   \n",
       "max        243.000000      51.000000   350.800000   363.700000   395.000000   \n",
       "\n",
       "         Intl_Mins  CustServ_Calls    Day_Calls   Day_Charge    Eve_Calls  \\\n",
       "count  3333.000000     3333.000000  3333.000000  3333.000000  3333.000000   \n",
       "mean     10.237294        1.562856   100.435644    30.562307   100.114311   \n",
       "std       2.791840        1.315491    20.069084     9.259435    19.922625   \n",
       "min       0.000000        0.000000     0.000000     0.000000     0.000000   \n",
       "25%       8.500000        1.000000    87.000000    24.430000    87.000000   \n",
       "50%      10.300000        1.000000   101.000000    30.500000   100.000000   \n",
       "75%      12.100000        2.000000   114.000000    36.790000   114.000000   \n",
       "max      20.000000        9.000000   165.000000    59.640000   170.000000   \n",
       "\n",
       "        Eve_Charge  Night_Calls  Night_Charge   Intl_Calls  Intl_Charge  \\\n",
       "count  3333.000000  3333.000000   3333.000000  3333.000000  3333.000000   \n",
       "mean     17.083540   100.107711      9.039325     4.479448     2.764581   \n",
       "std       4.310668    19.568609      2.275873     2.461214     0.753773   \n",
       "min       0.000000    33.000000      1.040000     0.000000     0.000000   \n",
       "25%      14.160000    87.000000      7.520000     3.000000     2.300000   \n",
       "50%      17.120000   100.000000      9.050000     4.000000     2.780000   \n",
       "75%      20.000000   113.000000     10.590000     6.000000     3.270000   \n",
       "max      30.910000   175.000000     17.770000    20.000000     5.400000   \n",
       "\n",
       "         Area_Code  \n",
       "count  3333.000000  \n",
       "mean    437.182418  \n",
       "std      42.371290  \n",
       "min     408.000000  \n",
       "25%     408.000000  \n",
       "50%     415.000000  \n",
       "75%     510.000000  \n",
       "max     510.000000  "
      ]
     },
     "execution_count": 5,
     "metadata": {},
     "output_type": "execute_result"
    }
   ],
   "source": [
    "telco.describe()"
   ]
  },
  {
   "cell_type": "code",
   "execution_count": 6,
   "metadata": {},
   "outputs": [
    {
     "data": {
      "text/plain": [
       "Account_Length    101.064806\n",
       "Vmail_Message       8.099010\n",
       "Day_Mins          179.775098\n",
       "Eve_Mins          200.980348\n",
       "Night_Mins        200.872037\n",
       "Intl_Mins          10.237294\n",
       "CustServ_Calls      1.562856\n",
       "Day_Calls         100.435644\n",
       "Day_Charge         30.562307\n",
       "Eve_Calls         100.114311\n",
       "Eve_Charge         17.083540\n",
       "Night_Calls       100.107711\n",
       "Night_Charge        9.039325\n",
       "Intl_Calls          4.479448\n",
       "Intl_Charge         2.764581\n",
       "Area_Code         437.182418\n",
       "dtype: float64"
      ]
     },
     "execution_count": 6,
     "metadata": {},
     "output_type": "execute_result"
    }
   ],
   "source": [
    "telco.mean()"
   ]
  },
  {
   "cell_type": "code",
   "execution_count": 7,
   "metadata": {},
   "outputs": [
    {
     "name": "stdout",
     "output_type": "stream",
     "text": [
      "no     2850\n",
      "yes     483\n",
      "Name: Churn, dtype: int64\n"
     ]
    }
   ],
   "source": [
    "print(telco['Churn'].value_counts())"
   ]
  },
  {
   "cell_type": "code",
   "execution_count": 8,
   "metadata": {},
   "outputs": [
    {
     "name": "stdout",
     "output_type": "stream",
     "text": [
      "       Account_Length  Vmail_Message    Day_Mins    Eve_Mins  Night_Mins  \\\n",
      "Churn                                                                      \n",
      "no         100.793684       8.604561  175.175754  199.043298  200.133193   \n",
      "yes        102.664596       5.115942  206.914079  212.410145  205.231677   \n",
      "\n",
      "       Intl_Mins  CustServ_Calls   Day_Calls  Day_Charge   Eve_Calls  \\\n",
      "Churn                                                                  \n",
      "no     10.158877        1.449825  100.283158   29.780421  100.038596   \n",
      "yes    10.700000        2.229814  101.335404   35.175921  100.561077   \n",
      "\n",
      "       Eve_Charge  Night_Calls  Night_Charge  Intl_Calls  Intl_Charge  \\\n",
      "Churn                                                                   \n",
      "no      16.918909   100.058246      9.006074    4.532982     2.743404   \n",
      "yes     18.054969   100.399586      9.235528    4.163561     2.889545   \n",
      "\n",
      "        Area_Code  \n",
      "Churn              \n",
      "no     437.074737  \n",
      "yes    437.817805  \n"
     ]
    }
   ],
   "source": [
    "print(telco.groupby(['Churn']).mean())"
   ]
  },
  {
   "cell_type": "code",
   "execution_count": 9,
   "metadata": {},
   "outputs": [
    {
     "name": "stdout",
     "output_type": "stream",
     "text": [
      "       Account_Length  Vmail_Message   Day_Mins   Eve_Mins  Night_Mins  \\\n",
      "Churn                                                                    \n",
      "no           39.88235      13.913125  50.181655  50.292175   51.105032   \n",
      "yes          39.46782      11.860138  68.997792  51.728910   47.132825   \n",
      "\n",
      "       Intl_Mins  CustServ_Calls  Day_Calls  Day_Charge  Eve_Calls  \\\n",
      "Churn                                                                \n",
      "no      2.784489        1.163883  19.801157    8.530835  19.958414   \n",
      "yes     2.793190        1.853275  21.582307   11.729710  19.724711   \n",
      "\n",
      "       Eve_Charge  Night_Calls  Night_Charge  Intl_Calls  Intl_Charge  \\\n",
      "Churn                                                                   \n",
      "no       4.274863    19.506246      2.299768    2.441984     0.751784   \n",
      "yes      4.396762    19.950659      2.121081    2.551575     0.754152   \n",
      "\n",
      "       Area_Code  \n",
      "Churn             \n",
      "no     42.306156  \n",
      "yes    42.792270  \n"
     ]
    }
   ],
   "source": [
    "print(telco.groupby(['Churn']).std())"
   ]
  },
  {
   "cell_type": "markdown",
   "metadata": {},
   "source": [
    "## Churn by State"
   ]
  },
  {
   "cell_type": "code",
   "execution_count": 10,
   "metadata": {},
   "outputs": [
    {
     "name": "stdout",
     "output_type": "stream",
     "text": [
      "State  Churn\n",
      "AK     no       49\n",
      "       yes       3\n",
      "AL     no       72\n",
      "       yes       8\n",
      "AR     no       44\n",
      "                ..\n",
      "WI     yes       7\n",
      "WV     no       96\n",
      "       yes      10\n",
      "WY     no       68\n",
      "       yes       9\n",
      "Name: Churn, Length: 102, dtype: int64\n"
     ]
    }
   ],
   "source": [
    "print(telco.groupby('State')['Churn'].value_counts())"
   ]
  },
  {
   "cell_type": "markdown",
   "metadata": {},
   "source": [
    "## Exploring feature distributions"
   ]
  },
  {
   "cell_type": "code",
   "execution_count": 11,
   "metadata": {},
   "outputs": [
    {
     "data": {
      "text/plain": [
       "<Figure size 640x480 with 1 Axes>"
      ]
     },
     "metadata": {},
     "output_type": "display_data"
    }
   ],
   "source": [
    "import matplotlib.pyplot as plt\n",
    "import seaborn as sns\n",
    "sns.distplot(telco['Account_Length'])\n",
    "plt.show()"
   ]
  },
  {
   "cell_type": "markdown",
   "metadata": {},
   "source": [
    "## Boxplot WIth Outliers"
   ]
  },
  {
   "cell_type": "code",
   "execution_count": 12,
   "metadata": {},
   "outputs": [
    {
     "data": {
      "image/png": "[encoded data removed]",
      "text/plain": [
       "<Figure size 432x288 with 1 Axes>"
      ]
     },
     "metadata": {
      "needs_background": "light"
     },
     "output_type": "display_data"
    }
   ],
   "source": [
    "sns.boxplot(x ='Churn',y ='Account_Length',data = telco)\n",
    "plt.show()"
   ]
  },
  {
   "cell_type": "markdown",
   "metadata": {},
   "source": [
    "## Boxplot WIthout Outliers"
   ]
  },
  {
   "cell_type": "code",
   "execution_count": 13,
   "metadata": {},
   "outputs": [
    {
     "data": {
      "image/png": "[encoded data removed]",
      "text/plain": [
       "<Figure size 432x288 with 1 Axes>"
      ]
     },
     "metadata": {
      "needs_background": "light"
     },
     "output_type": "display_data"
    }
   ],
   "source": [
    "sns.boxplot(x ='Churn',y ='Account_Length',data = telco, sym=\"\")\n",
    "plt.show()"
   ]
  },
  {
   "cell_type": "markdown",
   "metadata": {},
   "source": [
    "## Visualize the distribution of 'Day_Mins'"
   ]
  },
  {
   "cell_type": "code",
   "execution_count": 14,
   "metadata": {},
   "outputs": [
    {
     "data": {
      "image/png": "[encoded data removed]",
      "text/plain": [
       "<Figure size 432x288 with 1 Axes>"
      ]
     },
     "metadata": {
      "needs_background": "light"
     },
     "output_type": "display_data"
    }
   ],
   "source": [
    "sns.distplot(telco.Day_Mins)\n",
    "\n",
    "# Display the plot\n",
    "plt.show()"
   ]
  },
  {
   "cell_type": "markdown",
   "metadata": {},
   "source": [
    "## Visualize the distribution of 'Eve_Mins'"
   ]
  },
  {
   "cell_type": "code",
   "execution_count": 15,
   "metadata": {},
   "outputs": [
    {
     "data": {
      "image/png": "[encoded data removed]",
      "text/plain": [
       "<Figure size 432x288 with 1 Axes>"
      ]
     },
     "metadata": {
      "needs_background": "light"
     },
     "output_type": "display_data"
    }
   ],
   "source": [
    "# Visualize the distribution of 'EVE_Mins'\n",
    "sns.distplot(telco.Eve_Mins)\n",
    "\n",
    "# Display the plot\n",
    "plt.show()"
   ]
  },
  {
   "cell_type": "markdown",
   "metadata": {},
   "source": [
    "## Visualize the distribution of 'Night_Mins'"
   ]
  },
  {
   "cell_type": "code",
   "execution_count": 16,
   "metadata": {},
   "outputs": [
    {
     "data": {
      "image/png": "[encoded data removed]",
      "text/plain": [
       "<Figure size 432x288 with 1 Axes>"
      ]
     },
     "metadata": {
      "needs_background": "light"
     },
     "output_type": "display_data"
    }
   ],
   "source": [
    "# Visualize the distribution of 'Night_Mins'\n",
    "sns.distplot(telco.Night_Mins)\n",
    "\n",
    "# Display the plot\n",
    "plt.show()"
   ]
  },
  {
   "cell_type": "markdown",
   "metadata": {},
   "source": [
    "## Visualize the distribution of 'Intl_Mins'"
   ]
  },
  {
   "cell_type": "code",
   "execution_count": 17,
   "metadata": {},
   "outputs": [
    {
     "data": {
      "image/png": "[encoded data removed]",
      "text/plain": [
       "<Figure size 432x288 with 1 Axes>"
      ]
     },
     "metadata": {
      "needs_background": "light"
     },
     "output_type": "display_data"
    }
   ],
   "source": [
    "# Visualize the distribution of 'Intl_Mins'\n",
    "sns.distplot(telco.Intl_Mins)\n",
    "\n",
    "# Display the plot\n",
    "plt.show()"
   ]
  },
  {
   "cell_type": "code",
   "execution_count": 18,
   "metadata": {},
   "outputs": [
    {
     "data": {
      "image/png": "[encoded data removed]",
      "text/plain": [
       "<Figure size 432x288 with 1 Axes>"
      ]
     },
     "metadata": {
      "needs_background": "light"
     },
     "output_type": "display_data"
    }
   ],
   "source": [
    "# Create the box plot\n",
    "sns.boxplot(x = 'Churn',\n",
    "          y = 'CustServ_Calls',\n",
    "          data = telco)\n",
    "\n",
    "# Display the plot\n",
    "plt.show()"
   ]
  },
  {
   "cell_type": "code",
   "execution_count": 19,
   "metadata": {},
   "outputs": [
    {
     "data": {
      "image/png": "[encoded data removed]",
      "text/plain": [
       "<Figure size 432x288 with 1 Axes>"
      ]
     },
     "metadata": {
      "needs_background": "light"
     },
     "output_type": "display_data"
    }
   ],
   "source": [
    "# Add \"Vmail_Plan\" as a third variable\n",
    "sns.boxplot(x = 'Churn',\n",
    "            y = 'CustServ_Calls',\n",
    "            data = telco,\n",
    "            sym = \"\",\n",
    "            hue = 'Vmail_Plan')\n",
    "\n",
    "# Display the plot\n",
    "plt.show()"
   ]
  },
  {
   "cell_type": "code",
   "execution_count": 20,
   "metadata": {},
   "outputs": [
    {
     "data": {
      "image/png": "[encoded data removed]",
      "text/plain": [
       "<Figure size 432x288 with 1 Axes>"
      ]
     },
     "metadata": {
      "needs_background": "light"
     },
     "output_type": "display_data"
    }
   ],
   "source": [
    "# Add \"Intl_Plan\" as a third variable\n",
    "sns.boxplot(x = 'Churn',\n",
    "            y = 'CustServ_Calls',\n",
    "            data = telco,\n",
    "            sym = \"\",\n",
    "            hue = 'Intl_Plan')\n",
    "\n",
    "# Display the plot\n",
    "plt.show()"
   ]
  },
  {
   "cell_type": "markdown",
   "metadata": {},
   "source": [
    "## Checking Data Types"
   ]
  },
  {
   "cell_type": "code",
   "execution_count": 21,
   "metadata": {},
   "outputs": [
    {
     "data": {
      "text/plain": [
       "Account_Length      int64\n",
       "Vmail_Message       int64\n",
       "Day_Mins          float64\n",
       "Eve_Mins          float64\n",
       "Night_Mins        float64\n",
       "Intl_Mins         float64\n",
       "CustServ_Calls      int64\n",
       "Churn              object\n",
       "Intl_Plan          object\n",
       "Vmail_Plan         object\n",
       "Day_Calls           int64\n",
       "Day_Charge        float64\n",
       "Eve_Calls           int64\n",
       "Eve_Charge        float64\n",
       "Night_Calls         int64\n",
       "Night_Charge      float64\n",
       "Intl_Calls          int64\n",
       "Intl_Charge       float64\n",
       "State              object\n",
       "Area_Code           int64\n",
       "Phone              object\n",
       "dtype: object"
      ]
     },
     "execution_count": 21,
     "metadata": {},
     "output_type": "execute_result"
    }
   ],
   "source": [
    "telco.dtypes"
   ]
  },
  {
   "cell_type": "markdown",
   "metadata": {},
   "source": [
    "## Replacing categorical into numerical"
   ]
  },
  {
   "cell_type": "code",
   "execution_count": 22,
   "metadata": {},
   "outputs": [
    {
     "name": "stdout",
     "output_type": "stream",
     "text": [
      "0    1\n",
      "1    1\n",
      "2    0\n",
      "3    0\n",
      "4    0\n",
      "Name: Vmail_Plan, dtype: int64\n",
      "0    0\n",
      "1    0\n",
      "2    0\n",
      "3    1\n",
      "4    1\n",
      "Name: Intl_Plan, dtype: int64\n",
      "0    0\n",
      "1    0\n",
      "2    0\n",
      "3    0\n",
      "4    0\n",
      "Name: Churn, dtype: int64\n"
     ]
    }
   ],
   "source": [
    "# Replace 'no' with 0 and 'yes' with 1 in 'Vmail_Plan'\n",
    "telco['Vmail_Plan'] = telco['Vmail_Plan'].replace({'no': 0 , 'yes' : 1})\n",
    "\n",
    "# Replace 'no' with 0 and 'yes' with 1 in 'Churn'\n",
    "telco['Churn'] = telco['Churn'].replace({'no': 0 , 'yes' : 1})\n",
    "\n",
    "# Replace 'no' with 0 and 'yes' with 1 in 'Intl_Plan'\n",
    "telco['Intl_Plan'] = telco['Intl_Plan'].replace({'no': 0 , 'yes' : 1})\n",
    "\n",
    "# Print the results to verify\n",
    "print(telco['Vmail_Plan'].head())\n",
    "print(telco['Intl_Plan'].head())\n",
    "print(telco['Churn'].head())"
   ]
  },
  {
   "cell_type": "markdown",
   "metadata": {},
   "source": [
    "## Checking Correlations"
   ]
  },
  {
   "cell_type": "code",
   "execution_count": 23,
   "metadata": {},
   "outputs": [
    {
     "data": {
      "text/html": [
       "<div>\n",
       "<style scoped>\n",
       "    .dataframe tbody tr th:only-of-type {\n",
       "        vertical-align: middle;\n",
       "    }\n",
       "\n",
       "    .dataframe tbody tr th {\n",
       "        vertical-align: top;\n",
       "    }\n",
       "\n",
       "    .dataframe thead th {\n",
       "        text-align: right;\n",
       "    }\n",
       "</style>\n",
       "<table border=\"1\" class=\"dataframe\">\n",
       "  <thead>\n",
       "    <tr style=\"text-align: right;\">\n",
       "      <th></th>\n",
       "      <th>Account_Length</th>\n",
       "      <th>Vmail_Message</th>\n",
       "      <th>Day_Mins</th>\n",
       "      <th>Eve_Mins</th>\n",
       "      <th>Night_Mins</th>\n",
       "      <th>Intl_Mins</th>\n",
       "      <th>CustServ_Calls</th>\n",
       "      <th>Churn</th>\n",
       "      <th>Intl_Plan</th>\n",
       "      <th>Vmail_Plan</th>\n",
       "      <th>Day_Calls</th>\n",
       "      <th>Day_Charge</th>\n",
       "      <th>Eve_Calls</th>\n",
       "      <th>Eve_Charge</th>\n",
       "      <th>Night_Calls</th>\n",
       "      <th>Night_Charge</th>\n",
       "      <th>Intl_Calls</th>\n",
       "      <th>Intl_Charge</th>\n",
       "      <th>Area_Code</th>\n",
       "    </tr>\n",
       "  </thead>\n",
       "  <tbody>\n",
       "    <tr>\n",
       "      <td>Account_Length</td>\n",
       "      <td>1.000000</td>\n",
       "      <td>-0.004628</td>\n",
       "      <td>0.006216</td>\n",
       "      <td>-0.006757</td>\n",
       "      <td>-0.008955</td>\n",
       "      <td>0.009514</td>\n",
       "      <td>-0.003796</td>\n",
       "      <td>0.016541</td>\n",
       "      <td>0.024735</td>\n",
       "      <td>0.002918</td>\n",
       "      <td>0.038470</td>\n",
       "      <td>0.006214</td>\n",
       "      <td>0.019260</td>\n",
       "      <td>-0.006745</td>\n",
       "      <td>-0.013176</td>\n",
       "      <td>-0.008960</td>\n",
       "      <td>0.020661</td>\n",
       "      <td>0.009546</td>\n",
       "      <td>-0.012463</td>\n",
       "    </tr>\n",
       "    <tr>\n",
       "      <td>Vmail_Message</td>\n",
       "      <td>-0.004628</td>\n",
       "      <td>1.000000</td>\n",
       "      <td>0.000778</td>\n",
       "      <td>0.017562</td>\n",
       "      <td>0.007681</td>\n",
       "      <td>0.002856</td>\n",
       "      <td>-0.013263</td>\n",
       "      <td>-0.089728</td>\n",
       "      <td>0.008745</td>\n",
       "      <td>0.956927</td>\n",
       "      <td>-0.009548</td>\n",
       "      <td>0.000776</td>\n",
       "      <td>-0.005864</td>\n",
       "      <td>0.017578</td>\n",
       "      <td>0.007123</td>\n",
       "      <td>0.007663</td>\n",
       "      <td>0.013957</td>\n",
       "      <td>0.002884</td>\n",
       "      <td>-0.001994</td>\n",
       "    </tr>\n",
       "    <tr>\n",
       "      <td>Day_Mins</td>\n",
       "      <td>0.006216</td>\n",
       "      <td>0.000778</td>\n",
       "      <td>1.000000</td>\n",
       "      <td>0.007043</td>\n",
       "      <td>0.004323</td>\n",
       "      <td>-0.010155</td>\n",
       "      <td>-0.013423</td>\n",
       "      <td>0.205151</td>\n",
       "      <td>0.049396</td>\n",
       "      <td>-0.001684</td>\n",
       "      <td>0.006750</td>\n",
       "      <td>1.000000</td>\n",
       "      <td>0.015769</td>\n",
       "      <td>0.007029</td>\n",
       "      <td>0.022972</td>\n",
       "      <td>0.004300</td>\n",
       "      <td>0.008033</td>\n",
       "      <td>-0.010092</td>\n",
       "      <td>-0.008264</td>\n",
       "    </tr>\n",
       "    <tr>\n",
       "      <td>Eve_Mins</td>\n",
       "      <td>-0.006757</td>\n",
       "      <td>0.017562</td>\n",
       "      <td>0.007043</td>\n",
       "      <td>1.000000</td>\n",
       "      <td>-0.012584</td>\n",
       "      <td>-0.011035</td>\n",
       "      <td>-0.012985</td>\n",
       "      <td>0.092796</td>\n",
       "      <td>0.019100</td>\n",
       "      <td>0.021545</td>\n",
       "      <td>-0.021451</td>\n",
       "      <td>0.007050</td>\n",
       "      <td>-0.011430</td>\n",
       "      <td>1.000000</td>\n",
       "      <td>0.007586</td>\n",
       "      <td>-0.012593</td>\n",
       "      <td>0.002541</td>\n",
       "      <td>-0.011067</td>\n",
       "      <td>0.003580</td>\n",
       "    </tr>\n",
       "    <tr>\n",
       "      <td>Night_Mins</td>\n",
       "      <td>-0.008955</td>\n",
       "      <td>0.007681</td>\n",
       "      <td>0.004323</td>\n",
       "      <td>-0.012584</td>\n",
       "      <td>1.000000</td>\n",
       "      <td>-0.015207</td>\n",
       "      <td>-0.009288</td>\n",
       "      <td>0.035493</td>\n",
       "      <td>-0.028905</td>\n",
       "      <td>0.006079</td>\n",
       "      <td>0.022938</td>\n",
       "      <td>0.004324</td>\n",
       "      <td>-0.002093</td>\n",
       "      <td>-0.012592</td>\n",
       "      <td>0.011204</td>\n",
       "      <td>0.999999</td>\n",
       "      <td>-0.012353</td>\n",
       "      <td>-0.015180</td>\n",
       "      <td>-0.005825</td>\n",
       "    </tr>\n",
       "    <tr>\n",
       "      <td>Intl_Mins</td>\n",
       "      <td>0.009514</td>\n",
       "      <td>0.002856</td>\n",
       "      <td>-0.010155</td>\n",
       "      <td>-0.011035</td>\n",
       "      <td>-0.015207</td>\n",
       "      <td>1.000000</td>\n",
       "      <td>-0.009640</td>\n",
       "      <td>0.068239</td>\n",
       "      <td>0.045871</td>\n",
       "      <td>-0.001318</td>\n",
       "      <td>0.021565</td>\n",
       "      <td>-0.010157</td>\n",
       "      <td>0.008703</td>\n",
       "      <td>-0.011043</td>\n",
       "      <td>-0.013605</td>\n",
       "      <td>-0.015214</td>\n",
       "      <td>0.032304</td>\n",
       "      <td>0.999993</td>\n",
       "      <td>-0.018288</td>\n",
       "    </tr>\n",
       "    <tr>\n",
       "      <td>CustServ_Calls</td>\n",
       "      <td>-0.003796</td>\n",
       "      <td>-0.013263</td>\n",
       "      <td>-0.013423</td>\n",
       "      <td>-0.012985</td>\n",
       "      <td>-0.009288</td>\n",
       "      <td>-0.009640</td>\n",
       "      <td>1.000000</td>\n",
       "      <td>0.208750</td>\n",
       "      <td>-0.024522</td>\n",
       "      <td>-0.017824</td>\n",
       "      <td>-0.018942</td>\n",
       "      <td>-0.013427</td>\n",
       "      <td>0.002423</td>\n",
       "      <td>-0.012987</td>\n",
       "      <td>-0.012802</td>\n",
       "      <td>-0.009277</td>\n",
       "      <td>-0.017561</td>\n",
       "      <td>-0.009675</td>\n",
       "      <td>0.027572</td>\n",
       "    </tr>\n",
       "    <tr>\n",
       "      <td>Churn</td>\n",
       "      <td>0.016541</td>\n",
       "      <td>-0.089728</td>\n",
       "      <td>0.205151</td>\n",
       "      <td>0.092796</td>\n",
       "      <td>0.035493</td>\n",
       "      <td>0.068239</td>\n",
       "      <td>0.208750</td>\n",
       "      <td>1.000000</td>\n",
       "      <td>0.259852</td>\n",
       "      <td>-0.102148</td>\n",
       "      <td>0.018459</td>\n",
       "      <td>0.205151</td>\n",
       "      <td>0.009233</td>\n",
       "      <td>0.092786</td>\n",
       "      <td>0.006141</td>\n",
       "      <td>0.035496</td>\n",
       "      <td>-0.052844</td>\n",
       "      <td>0.068259</td>\n",
       "      <td>0.006174</td>\n",
       "    </tr>\n",
       "    <tr>\n",
       "      <td>Intl_Plan</td>\n",
       "      <td>0.024735</td>\n",
       "      <td>0.008745</td>\n",
       "      <td>0.049396</td>\n",
       "      <td>0.019100</td>\n",
       "      <td>-0.028905</td>\n",
       "      <td>0.045871</td>\n",
       "      <td>-0.024522</td>\n",
       "      <td>0.259852</td>\n",
       "      <td>1.000000</td>\n",
       "      <td>0.006006</td>\n",
       "      <td>0.003755</td>\n",
       "      <td>0.049398</td>\n",
       "      <td>0.006114</td>\n",
       "      <td>0.019106</td>\n",
       "      <td>0.012451</td>\n",
       "      <td>-0.028913</td>\n",
       "      <td>0.017366</td>\n",
       "      <td>0.045780</td>\n",
       "      <td>0.048551</td>\n",
       "    </tr>\n",
       "    <tr>\n",
       "      <td>Vmail_Plan</td>\n",
       "      <td>0.002918</td>\n",
       "      <td>0.956927</td>\n",
       "      <td>-0.001684</td>\n",
       "      <td>0.021545</td>\n",
       "      <td>0.006079</td>\n",
       "      <td>-0.001318</td>\n",
       "      <td>-0.017824</td>\n",
       "      <td>-0.102148</td>\n",
       "      <td>0.006006</td>\n",
       "      <td>1.000000</td>\n",
       "      <td>-0.011086</td>\n",
       "      <td>-0.001686</td>\n",
       "      <td>-0.006444</td>\n",
       "      <td>0.021559</td>\n",
       "      <td>0.015553</td>\n",
       "      <td>0.006064</td>\n",
       "      <td>0.007618</td>\n",
       "      <td>-0.001276</td>\n",
       "      <td>-0.000747</td>\n",
       "    </tr>\n",
       "    <tr>\n",
       "      <td>Day_Calls</td>\n",
       "      <td>0.038470</td>\n",
       "      <td>-0.009548</td>\n",
       "      <td>0.006750</td>\n",
       "      <td>-0.021451</td>\n",
       "      <td>0.022938</td>\n",
       "      <td>0.021565</td>\n",
       "      <td>-0.018942</td>\n",
       "      <td>0.018459</td>\n",
       "      <td>0.003755</td>\n",
       "      <td>-0.011086</td>\n",
       "      <td>1.000000</td>\n",
       "      <td>0.006753</td>\n",
       "      <td>0.006462</td>\n",
       "      <td>-0.021449</td>\n",
       "      <td>-0.019557</td>\n",
       "      <td>0.022927</td>\n",
       "      <td>0.004574</td>\n",
       "      <td>0.021666</td>\n",
       "      <td>-0.009646</td>\n",
       "    </tr>\n",
       "    <tr>\n",
       "      <td>Day_Charge</td>\n",
       "      <td>0.006214</td>\n",
       "      <td>0.000776</td>\n",
       "      <td>1.000000</td>\n",
       "      <td>0.007050</td>\n",
       "      <td>0.004324</td>\n",
       "      <td>-0.010157</td>\n",
       "      <td>-0.013427</td>\n",
       "      <td>0.205151</td>\n",
       "      <td>0.049398</td>\n",
       "      <td>-0.001686</td>\n",
       "      <td>0.006753</td>\n",
       "      <td>1.000000</td>\n",
       "      <td>0.015769</td>\n",
       "      <td>0.007036</td>\n",
       "      <td>0.022972</td>\n",
       "      <td>0.004301</td>\n",
       "      <td>0.008032</td>\n",
       "      <td>-0.010094</td>\n",
       "      <td>-0.008264</td>\n",
       "    </tr>\n",
       "    <tr>\n",
       "      <td>Eve_Calls</td>\n",
       "      <td>0.019260</td>\n",
       "      <td>-0.005864</td>\n",
       "      <td>0.015769</td>\n",
       "      <td>-0.011430</td>\n",
       "      <td>-0.002093</td>\n",
       "      <td>0.008703</td>\n",
       "      <td>0.002423</td>\n",
       "      <td>0.009233</td>\n",
       "      <td>0.006114</td>\n",
       "      <td>-0.006444</td>\n",
       "      <td>0.006462</td>\n",
       "      <td>0.015769</td>\n",
       "      <td>1.000000</td>\n",
       "      <td>-0.011423</td>\n",
       "      <td>0.007710</td>\n",
       "      <td>-0.002056</td>\n",
       "      <td>0.017434</td>\n",
       "      <td>0.008674</td>\n",
       "      <td>-0.011886</td>\n",
       "    </tr>\n",
       "    <tr>\n",
       "      <td>Eve_Charge</td>\n",
       "      <td>-0.006745</td>\n",
       "      <td>0.017578</td>\n",
       "      <td>0.007029</td>\n",
       "      <td>1.000000</td>\n",
       "      <td>-0.012592</td>\n",
       "      <td>-0.011043</td>\n",
       "      <td>-0.012987</td>\n",
       "      <td>0.092786</td>\n",
       "      <td>0.019106</td>\n",
       "      <td>0.021559</td>\n",
       "      <td>-0.021449</td>\n",
       "      <td>0.007036</td>\n",
       "      <td>-0.011423</td>\n",
       "      <td>1.000000</td>\n",
       "      <td>0.007596</td>\n",
       "      <td>-0.012601</td>\n",
       "      <td>0.002541</td>\n",
       "      <td>-0.011074</td>\n",
       "      <td>0.003607</td>\n",
       "    </tr>\n",
       "    <tr>\n",
       "      <td>Night_Calls</td>\n",
       "      <td>-0.013176</td>\n",
       "      <td>0.007123</td>\n",
       "      <td>0.022972</td>\n",
       "      <td>0.007586</td>\n",
       "      <td>0.011204</td>\n",
       "      <td>-0.013605</td>\n",
       "      <td>-0.012802</td>\n",
       "      <td>0.006141</td>\n",
       "      <td>0.012451</td>\n",
       "      <td>0.015553</td>\n",
       "      <td>-0.019557</td>\n",
       "      <td>0.022972</td>\n",
       "      <td>0.007710</td>\n",
       "      <td>0.007596</td>\n",
       "      <td>1.000000</td>\n",
       "      <td>0.011188</td>\n",
       "      <td>0.000305</td>\n",
       "      <td>-0.013630</td>\n",
       "      <td>0.016522</td>\n",
       "    </tr>\n",
       "    <tr>\n",
       "      <td>Night_Charge</td>\n",
       "      <td>-0.008960</td>\n",
       "      <td>0.007663</td>\n",
       "      <td>0.004300</td>\n",
       "      <td>-0.012593</td>\n",
       "      <td>0.999999</td>\n",
       "      <td>-0.015214</td>\n",
       "      <td>-0.009277</td>\n",
       "      <td>0.035496</td>\n",
       "      <td>-0.028913</td>\n",
       "      <td>0.006064</td>\n",
       "      <td>0.022927</td>\n",
       "      <td>0.004301</td>\n",
       "      <td>-0.002056</td>\n",
       "      <td>-0.012601</td>\n",
       "      <td>0.011188</td>\n",
       "      <td>1.000000</td>\n",
       "      <td>-0.012329</td>\n",
       "      <td>-0.015186</td>\n",
       "      <td>-0.005845</td>\n",
       "    </tr>\n",
       "    <tr>\n",
       "      <td>Intl_Calls</td>\n",
       "      <td>0.020661</td>\n",
       "      <td>0.013957</td>\n",
       "      <td>0.008033</td>\n",
       "      <td>0.002541</td>\n",
       "      <td>-0.012353</td>\n",
       "      <td>0.032304</td>\n",
       "      <td>-0.017561</td>\n",
       "      <td>-0.052844</td>\n",
       "      <td>0.017366</td>\n",
       "      <td>0.007618</td>\n",
       "      <td>0.004574</td>\n",
       "      <td>0.008032</td>\n",
       "      <td>0.017434</td>\n",
       "      <td>0.002541</td>\n",
       "      <td>0.000305</td>\n",
       "      <td>-0.012329</td>\n",
       "      <td>1.000000</td>\n",
       "      <td>0.032372</td>\n",
       "      <td>-0.024179</td>\n",
       "    </tr>\n",
       "    <tr>\n",
       "      <td>Intl_Charge</td>\n",
       "      <td>0.009546</td>\n",
       "      <td>0.002884</td>\n",
       "      <td>-0.010092</td>\n",
       "      <td>-0.011067</td>\n",
       "      <td>-0.015180</td>\n",
       "      <td>0.999993</td>\n",
       "      <td>-0.009675</td>\n",
       "      <td>0.068259</td>\n",
       "      <td>0.045780</td>\n",
       "      <td>-0.001276</td>\n",
       "      <td>0.021666</td>\n",
       "      <td>-0.010094</td>\n",
       "      <td>0.008674</td>\n",
       "      <td>-0.011074</td>\n",
       "      <td>-0.013630</td>\n",
       "      <td>-0.015186</td>\n",
       "      <td>0.032372</td>\n",
       "      <td>1.000000</td>\n",
       "      <td>-0.018395</td>\n",
       "    </tr>\n",
       "    <tr>\n",
       "      <td>Area_Code</td>\n",
       "      <td>-0.012463</td>\n",
       "      <td>-0.001994</td>\n",
       "      <td>-0.008264</td>\n",
       "      <td>0.003580</td>\n",
       "      <td>-0.005825</td>\n",
       "      <td>-0.018288</td>\n",
       "      <td>0.027572</td>\n",
       "      <td>0.006174</td>\n",
       "      <td>0.048551</td>\n",
       "      <td>-0.000747</td>\n",
       "      <td>-0.009646</td>\n",
       "      <td>-0.008264</td>\n",
       "      <td>-0.011886</td>\n",
       "      <td>0.003607</td>\n",
       "      <td>0.016522</td>\n",
       "      <td>-0.005845</td>\n",
       "      <td>-0.024179</td>\n",
       "      <td>-0.018395</td>\n",
       "      <td>1.000000</td>\n",
       "    </tr>\n",
       "  </tbody>\n",
       "</table>\n",
       "</div>"
      ],
      "text/plain": [
       "                Account_Length  Vmail_Message  Day_Mins  Eve_Mins  Night_Mins  \\\n",
       "Account_Length        1.000000      -0.004628  0.006216 -0.006757   -0.008955   \n",
       "Vmail_Message        -0.004628       1.000000  0.000778  0.017562    0.007681   \n",
       "Day_Mins              0.006216       0.000778  1.000000  0.007043    0.004323   \n",
       "Eve_Mins             -0.006757       0.017562  0.007043  1.000000   -0.012584   \n",
       "Night_Mins           -0.008955       0.007681  0.004323 -0.012584    1.000000   \n",
       "Intl_Mins             0.009514       0.002856 -0.010155 -0.011035   -0.015207   \n",
       "CustServ_Calls       -0.003796      -0.013263 -0.013423 -0.012985   -0.009288   \n",
       "Churn                 0.016541      -0.089728  0.205151  0.092796    0.035493   \n",
       "Intl_Plan             0.024735       0.008745  0.049396  0.019100   -0.028905   \n",
       "Vmail_Plan            0.002918       0.956927 -0.001684  0.021545    0.006079   \n",
       "Day_Calls             0.038470      -0.009548  0.006750 -0.021451    0.022938   \n",
       "Day_Charge            0.006214       0.000776  1.000000  0.007050    0.004324   \n",
       "Eve_Calls             0.019260      -0.005864  0.015769 -0.011430   -0.002093   \n",
       "Eve_Charge           -0.006745       0.017578  0.007029  1.000000   -0.012592   \n",
       "Night_Calls          -0.013176       0.007123  0.022972  0.007586    0.011204   \n",
       "Night_Charge         -0.008960       0.007663  0.004300 -0.012593    0.999999   \n",
       "Intl_Calls            0.020661       0.013957  0.008033  0.002541   -0.012353   \n",
       "Intl_Charge           0.009546       0.002884 -0.010092 -0.011067   -0.015180   \n",
       "Area_Code            -0.012463      -0.001994 -0.008264  0.003580   -0.005825   \n",
       "\n",
       "                Intl_Mins  CustServ_Calls     Churn  Intl_Plan  Vmail_Plan  \\\n",
       "Account_Length   0.009514       -0.003796  0.016541   0.024735    0.002918   \n",
       "Vmail_Message    0.002856       -0.013263 -0.089728   0.008745    0.956927   \n",
       "Day_Mins        -0.010155       -0.013423  0.205151   0.049396   -0.001684   \n",
       "Eve_Mins        -0.011035       -0.012985  0.092796   0.019100    0.021545   \n",
       "Night_Mins      -0.015207       -0.009288  0.035493  -0.028905    0.006079   \n",
       "Intl_Mins        1.000000       -0.009640  0.068239   0.045871   -0.001318   \n",
       "CustServ_Calls  -0.009640        1.000000  0.208750  -0.024522   -0.017824   \n",
       "Churn            0.068239        0.208750  1.000000   0.259852   -0.102148   \n",
       "Intl_Plan        0.045871       -0.024522  0.259852   1.000000    0.006006   \n",
       "Vmail_Plan      -0.001318       -0.017824 -0.102148   0.006006    1.000000   \n",
       "Day_Calls        0.021565       -0.018942  0.018459   0.003755   -0.011086   \n",
       "Day_Charge      -0.010157       -0.013427  0.205151   0.049398   -0.001686   \n",
       "Eve_Calls        0.008703        0.002423  0.009233   0.006114   -0.006444   \n",
       "Eve_Charge      -0.011043       -0.012987  0.092786   0.019106    0.021559   \n",
       "Night_Calls     -0.013605       -0.012802  0.006141   0.012451    0.015553   \n",
       "Night_Charge    -0.015214       -0.009277  0.035496  -0.028913    0.006064   \n",
       "Intl_Calls       0.032304       -0.017561 -0.052844   0.017366    0.007618   \n",
       "Intl_Charge      0.999993       -0.009675  0.068259   0.045780   -0.001276   \n",
       "Area_Code       -0.018288        0.027572  0.006174   0.048551   -0.000747   \n",
       "\n",
       "                Day_Calls  Day_Charge  Eve_Calls  Eve_Charge  Night_Calls  \\\n",
       "Account_Length   0.038470    0.006214   0.019260   -0.006745    -0.013176   \n",
       "Vmail_Message   -0.009548    0.000776  -0.005864    0.017578     0.007123   \n",
       "Day_Mins         0.006750    1.000000   0.015769    0.007029     0.022972   \n",
       "Eve_Mins        -0.021451    0.007050  -0.011430    1.000000     0.007586   \n",
       "Night_Mins       0.022938    0.004324  -0.002093   -0.012592     0.011204   \n",
       "Intl_Mins        0.021565   -0.010157   0.008703   -0.011043    -0.013605   \n",
       "CustServ_Calls  -0.018942   -0.013427   0.002423   -0.012987    -0.012802   \n",
       "Churn            0.018459    0.205151   0.009233    0.092786     0.006141   \n",
       "Intl_Plan        0.003755    0.049398   0.006114    0.019106     0.012451   \n",
       "Vmail_Plan      -0.011086   -0.001686  -0.006444    0.021559     0.015553   \n",
       "Day_Calls        1.000000    0.006753   0.006462   -0.021449    -0.019557   \n",
       "Day_Charge       0.006753    1.000000   0.015769    0.007036     0.022972   \n",
       "Eve_Calls        0.006462    0.015769   1.000000   -0.011423     0.007710   \n",
       "Eve_Charge      -0.021449    0.007036  -0.011423    1.000000     0.007596   \n",
       "Night_Calls     -0.019557    0.022972   0.007710    0.007596     1.000000   \n",
       "Night_Charge     0.022927    0.004301  -0.002056   -0.012601     0.011188   \n",
       "Intl_Calls       0.004574    0.008032   0.017434    0.002541     0.000305   \n",
       "Intl_Charge      0.021666   -0.010094   0.008674   -0.011074    -0.013630   \n",
       "Area_Code       -0.009646   -0.008264  -0.011886    0.003607     0.016522   \n",
       "\n",
       "                Night_Charge  Intl_Calls  Intl_Charge  Area_Code  \n",
       "Account_Length     -0.008960    0.020661     0.009546  -0.012463  \n",
       "Vmail_Message       0.007663    0.013957     0.002884  -0.001994  \n",
       "Day_Mins            0.004300    0.008033    -0.010092  -0.008264  \n",
       "Eve_Mins           -0.012593    0.002541    -0.011067   0.003580  \n",
       "Night_Mins          0.999999   -0.012353    -0.015180  -0.005825  \n",
       "Intl_Mins          -0.015214    0.032304     0.999993  -0.018288  \n",
       "CustServ_Calls     -0.009277   -0.017561    -0.009675   0.027572  \n",
       "Churn               0.035496   -0.052844     0.068259   0.006174  \n",
       "Intl_Plan          -0.028913    0.017366     0.045780   0.048551  \n",
       "Vmail_Plan          0.006064    0.007618    -0.001276  -0.000747  \n",
       "Day_Calls           0.022927    0.004574     0.021666  -0.009646  \n",
       "Day_Charge          0.004301    0.008032    -0.010094  -0.008264  \n",
       "Eve_Calls          -0.002056    0.017434     0.008674  -0.011886  \n",
       "Eve_Charge         -0.012601    0.002541    -0.011074   0.003607  \n",
       "Night_Calls         0.011188    0.000305    -0.013630   0.016522  \n",
       "Night_Charge        1.000000   -0.012329    -0.015186  -0.005845  \n",
       "Intl_Calls         -0.012329    1.000000     0.032372  -0.024179  \n",
       "Intl_Charge        -0.015186    0.032372     1.000000  -0.018395  \n",
       "Area_Code          -0.005845   -0.024179    -0.018395   1.000000  "
      ]
     },
     "execution_count": 23,
     "metadata": {},
     "output_type": "execute_result"
    }
   ],
   "source": [
    "# ##One hot encoding\n",
    "# telco_state = pd.get_dummies(telco.State)\n",
    "# print(telco_state.head())\n",
    "telco.corr()"
   ]
  },
  {
   "cell_type": "markdown",
   "metadata": {},
   "source": [
    "## Replacing categorical into numerical and Dropping Uneccesary Columns (Even highly correlated columns should be removes as they provide nothing to the model)"
   ]
  },
  {
   "cell_type": "code",
   "execution_count": 24,
   "metadata": {},
   "outputs": [
    {
     "name": "stdout",
     "output_type": "stream",
     "text": [
      "Index(['Account_Length', 'Vmail_Message', 'Day_Mins', 'Eve_Mins', 'Night_Mins',\n",
      "       'Intl_Mins', 'CustServ_Calls', 'Churn', 'Intl_Plan', 'Vmail_Plan',\n",
      "       'Day_Calls', 'Day_Charge', 'Eve_Calls', 'Eve_Charge', 'Night_Calls',\n",
      "       'Night_Charge', 'Intl_Calls', 'Intl_Charge', 'New_State'],\n",
      "      dtype='object')\n"
     ]
    },
    {
     "data": {
      "text/html": [
       "<div>\n",
       "<style scoped>\n",
       "    .dataframe tbody tr th:only-of-type {\n",
       "        vertical-align: middle;\n",
       "    }\n",
       "\n",
       "    .dataframe tbody tr th {\n",
       "        vertical-align: top;\n",
       "    }\n",
       "\n",
       "    .dataframe thead th {\n",
       "        text-align: right;\n",
       "    }\n",
       "</style>\n",
       "<table border=\"1\" class=\"dataframe\">\n",
       "  <thead>\n",
       "    <tr style=\"text-align: right;\">\n",
       "      <th></th>\n",
       "      <th>Account_Length</th>\n",
       "      <th>Vmail_Message</th>\n",
       "      <th>Day_Mins</th>\n",
       "      <th>Eve_Mins</th>\n",
       "      <th>Night_Mins</th>\n",
       "      <th>Intl_Mins</th>\n",
       "      <th>CustServ_Calls</th>\n",
       "      <th>Churn</th>\n",
       "      <th>Intl_Plan</th>\n",
       "      <th>Vmail_Plan</th>\n",
       "      <th>Day_Calls</th>\n",
       "      <th>Day_Charge</th>\n",
       "      <th>Eve_Calls</th>\n",
       "      <th>Eve_Charge</th>\n",
       "      <th>Night_Calls</th>\n",
       "      <th>Night_Charge</th>\n",
       "      <th>Intl_Calls</th>\n",
       "      <th>Intl_Charge</th>\n",
       "      <th>New_State</th>\n",
       "    </tr>\n",
       "  </thead>\n",
       "  <tbody>\n",
       "    <tr>\n",
       "      <td>0</td>\n",
       "      <td>128</td>\n",
       "      <td>25</td>\n",
       "      <td>265.1</td>\n",
       "      <td>197.4</td>\n",
       "      <td>244.7</td>\n",
       "      <td>10.0</td>\n",
       "      <td>1</td>\n",
       "      <td>0</td>\n",
       "      <td>0</td>\n",
       "      <td>1</td>\n",
       "      <td>110</td>\n",
       "      <td>45.07</td>\n",
       "      <td>99</td>\n",
       "      <td>16.78</td>\n",
       "      <td>91</td>\n",
       "      <td>11.01</td>\n",
       "      <td>3</td>\n",
       "      <td>2.70</td>\n",
       "      <td>16</td>\n",
       "    </tr>\n",
       "    <tr>\n",
       "      <td>1</td>\n",
       "      <td>107</td>\n",
       "      <td>26</td>\n",
       "      <td>161.6</td>\n",
       "      <td>195.5</td>\n",
       "      <td>254.4</td>\n",
       "      <td>13.7</td>\n",
       "      <td>1</td>\n",
       "      <td>0</td>\n",
       "      <td>0</td>\n",
       "      <td>1</td>\n",
       "      <td>123</td>\n",
       "      <td>27.47</td>\n",
       "      <td>103</td>\n",
       "      <td>16.62</td>\n",
       "      <td>103</td>\n",
       "      <td>11.45</td>\n",
       "      <td>3</td>\n",
       "      <td>3.70</td>\n",
       "      <td>35</td>\n",
       "    </tr>\n",
       "    <tr>\n",
       "      <td>2</td>\n",
       "      <td>137</td>\n",
       "      <td>0</td>\n",
       "      <td>243.4</td>\n",
       "      <td>121.2</td>\n",
       "      <td>162.6</td>\n",
       "      <td>12.2</td>\n",
       "      <td>0</td>\n",
       "      <td>0</td>\n",
       "      <td>0</td>\n",
       "      <td>0</td>\n",
       "      <td>114</td>\n",
       "      <td>41.38</td>\n",
       "      <td>110</td>\n",
       "      <td>10.30</td>\n",
       "      <td>104</td>\n",
       "      <td>7.32</td>\n",
       "      <td>5</td>\n",
       "      <td>3.29</td>\n",
       "      <td>31</td>\n",
       "    </tr>\n",
       "    <tr>\n",
       "      <td>3</td>\n",
       "      <td>84</td>\n",
       "      <td>0</td>\n",
       "      <td>299.4</td>\n",
       "      <td>61.9</td>\n",
       "      <td>196.9</td>\n",
       "      <td>6.6</td>\n",
       "      <td>2</td>\n",
       "      <td>0</td>\n",
       "      <td>1</td>\n",
       "      <td>0</td>\n",
       "      <td>71</td>\n",
       "      <td>50.90</td>\n",
       "      <td>88</td>\n",
       "      <td>5.26</td>\n",
       "      <td>89</td>\n",
       "      <td>8.86</td>\n",
       "      <td>7</td>\n",
       "      <td>1.78</td>\n",
       "      <td>35</td>\n",
       "    </tr>\n",
       "    <tr>\n",
       "      <td>4</td>\n",
       "      <td>75</td>\n",
       "      <td>0</td>\n",
       "      <td>166.7</td>\n",
       "      <td>148.3</td>\n",
       "      <td>186.9</td>\n",
       "      <td>10.1</td>\n",
       "      <td>3</td>\n",
       "      <td>0</td>\n",
       "      <td>1</td>\n",
       "      <td>0</td>\n",
       "      <td>113</td>\n",
       "      <td>28.34</td>\n",
       "      <td>122</td>\n",
       "      <td>12.61</td>\n",
       "      <td>121</td>\n",
       "      <td>8.41</td>\n",
       "      <td>3</td>\n",
       "      <td>2.73</td>\n",
       "      <td>36</td>\n",
       "    </tr>\n",
       "  </tbody>\n",
       "</table>\n",
       "</div>"
      ],
      "text/plain": [
       "   Account_Length  Vmail_Message  Day_Mins  Eve_Mins  Night_Mins  Intl_Mins  \\\n",
       "0             128             25     265.1     197.4       244.7       10.0   \n",
       "1             107             26     161.6     195.5       254.4       13.7   \n",
       "2             137              0     243.4     121.2       162.6       12.2   \n",
       "3              84              0     299.4      61.9       196.9        6.6   \n",
       "4              75              0     166.7     148.3       186.9       10.1   \n",
       "\n",
       "   CustServ_Calls  Churn  Intl_Plan  Vmail_Plan  Day_Calls  Day_Charge  \\\n",
       "0               1      0          0           1        110       45.07   \n",
       "1               1      0          0           1        123       27.47   \n",
       "2               0      0          0           0        114       41.38   \n",
       "3               2      0          1           0         71       50.90   \n",
       "4               3      0          1           0        113       28.34   \n",
       "\n",
       "   Eve_Calls  Eve_Charge  Night_Calls  Night_Charge  Intl_Calls  Intl_Charge  \\\n",
       "0         99       16.78           91         11.01           3         2.70   \n",
       "1        103       16.62          103         11.45           3         3.70   \n",
       "2        110       10.30          104          7.32           5         3.29   \n",
       "3         88        5.26           89          8.86           7         1.78   \n",
       "4        122       12.61          121          8.41           3         2.73   \n",
       "\n",
       "   New_State  \n",
       "0         16  \n",
       "1         35  \n",
       "2         31  \n",
       "3         35  \n",
       "4         36  "
      ]
     },
     "execution_count": 24,
     "metadata": {},
     "output_type": "execute_result"
    }
   ],
   "source": [
    "from sklearn.preprocessing import LabelEncoder\n",
    "lb_enc = LabelEncoder()\n",
    "telco[\"New_State\"] = lb_enc.fit_transform(telco[\"State\"])\n",
    "telco[[\"State\", \"New_State\"]]\n",
    "telco = telco.drop(['State'], axis = 1)\n",
    "\n",
    "telco = telco.drop(['Area_Code','Phone'], axis=1)\n",
    "print(telco.columns)\n",
    "telco.head(5)"
   ]
  },
  {
   "cell_type": "code",
   "execution_count": 25,
   "metadata": {},
   "outputs": [],
   "source": [
    "# # Import StandardScaler\n",
    "# from sklearn.preprocessing import StandardScaler\n",
    "# # Scale telco using StandardScaler\n",
    "# telco_scaled = StandardScaler().fit_transform(telco)\n",
    "\n",
    "# # Add column names back for readability\n",
    "# telco_scaled_df = pd.DataFrame(telco_scaled, columns=[\"Intl_Calls\", \"Night_Mins\"])\n",
    "\n",
    "# # Print summary statistics\n",
    "# print(telco_scaled_df.describe())"
   ]
  },
  {
   "cell_type": "markdown",
   "metadata": {},
   "source": [
    "## Feature Engineering"
   ]
  },
  {
   "cell_type": "code",
   "execution_count": 26,
   "metadata": {},
   "outputs": [
    {
     "name": "stdout",
     "output_type": "stream",
     "text": [
      "0    2.689011\n",
      "1    2.469903\n",
      "2    1.563462\n",
      "3    2.212360\n",
      "4    1.544628\n",
      "Name: Avg_Night_Calls, dtype: float64\n",
      "0    5.881961\n",
      "1    5.882781\n",
      "2    5.882069\n",
      "3    5.882122\n",
      "4    5.882145\n",
      "Name: Day_Cost, dtype: float64\n",
      "   Account_Length  Vmail_Message  Day_Mins  Eve_Mins  Night_Mins  Intl_Mins  \\\n",
      "0             128             25     265.1     197.4       244.7       10.0   \n",
      "1             107             26     161.6     195.5       254.4       13.7   \n",
      "2             137              0     243.4     121.2       162.6       12.2   \n",
      "3              84              0     299.4      61.9       196.9        6.6   \n",
      "4              75              0     166.7     148.3       186.9       10.1   \n",
      "\n",
      "   CustServ_Calls  Churn  Intl_Plan  Vmail_Plan  ...  Day_Charge  Eve_Calls  \\\n",
      "0               1      0          0           1  ...       45.07         99   \n",
      "1               1      0          0           1  ...       27.47        103   \n",
      "2               0      0          0           0  ...       41.38        110   \n",
      "3               2      0          1           0  ...       50.90         88   \n",
      "4               3      0          1           0  ...       28.34        122   \n",
      "\n",
      "   Eve_Charge  Night_Calls  Night_Charge  Intl_Calls  Intl_Charge  New_State  \\\n",
      "0       16.78           91         11.01           3         2.70         16   \n",
      "1       16.62          103         11.45           3         3.70         35   \n",
      "2       10.30          104          7.32           5         3.29         31   \n",
      "3        5.26           89          8.86           7         1.78         35   \n",
      "4       12.61          121          8.41           3         2.73         36   \n",
      "\n",
      "   Avg_Night_Calls  Day_Cost  \n",
      "0         2.689011  5.881961  \n",
      "1         2.469903  5.882781  \n",
      "2         1.563462  5.882069  \n",
      "3         2.212360  5.882122  \n",
      "4         1.544628  5.882145  \n",
      "\n",
      "[5 rows x 21 columns]\n"
     ]
    }
   ],
   "source": [
    "# Create the new feature\n",
    "telco['Avg_Night_Calls'] = telco['Night_Mins']/telco['Night_Calls']\n",
    "\n",
    "# Print the first five rows of 'Avg_Night_Calls'\n",
    "print(telco['Avg_Night_Calls'].head(5))\n",
    "\n",
    "telco['Day_Cost'] = telco['Day_Mins'] / telco['Day_Charge']\n",
    "print(telco['Day_Cost'].head(5))\n",
    "print(telco.head(5))"
   ]
  },
  {
   "cell_type": "markdown",
   "metadata": {},
   "source": [
    "## Checking for null values"
   ]
  },
  {
   "cell_type": "code",
   "execution_count": 27,
   "metadata": {},
   "outputs": [],
   "source": [
    "telco.isnull().values.any()\n",
    "telco.isnull().sum()\n",
    "telco.fillna(telco['Day_Cost'].mean(), inplace=True)"
   ]
  },
  {
   "cell_type": "code",
   "execution_count": 28,
   "metadata": {},
   "outputs": [
    {
     "data": {
      "text/plain": [
       "Account_Length     0\n",
       "Vmail_Message      0\n",
       "Day_Mins           0\n",
       "Eve_Mins           0\n",
       "Night_Mins         0\n",
       "Intl_Mins          0\n",
       "CustServ_Calls     0\n",
       "Churn              0\n",
       "Intl_Plan          0\n",
       "Vmail_Plan         0\n",
       "Day_Calls          0\n",
       "Day_Charge         0\n",
       "Eve_Calls          0\n",
       "Eve_Charge         0\n",
       "Night_Calls        0\n",
       "Night_Charge       0\n",
       "Intl_Calls         0\n",
       "Intl_Charge        0\n",
       "New_State          0\n",
       "Avg_Night_Calls    0\n",
       "Day_Cost           0\n",
       "dtype: int64"
      ]
     },
     "execution_count": 28,
     "metadata": {},
     "output_type": "execute_result"
    }
   ],
   "source": [
    "telco.isnull().sum()"
   ]
  },
  {
   "cell_type": "markdown",
   "metadata": {},
   "source": [
    "## Splitting data for testing and training"
   ]
  },
  {
   "cell_type": "code",
   "execution_count": 29,
   "metadata": {},
   "outputs": [],
   "source": [
    "##Setting up X and Y(target)\n",
    "# Import train_test_split\n",
    "from sklearn.model_selection import train_test_split\n",
    "\n",
    "# Create feature variable\n",
    "X = telco.drop('Churn', axis=1)\n",
    "\n",
    "# Create target variable\n",
    "y = telco['Churn']\n",
    "\n",
    "# Create training and testing sets\n",
    "X_train, X_test, y_train, y_test = train_test_split(X, y,test_size=0.3,random_state=42, stratify=y)"
   ]
  },
  {
   "cell_type": "code",
   "execution_count": 30,
   "metadata": {},
   "outputs": [
    {
     "name": "stdout",
     "output_type": "stream",
     "text": [
      "(2333, 20)\n",
      "(1000, 20)\n",
      "(2333,)\n",
      "(1000,)\n"
     ]
    }
   ],
   "source": [
    "print (X_train.shape)\n",
    "print (X_test.shape)\n",
    "print (y_train.shape)\n",
    "print (y_test.shape)"
   ]
  },
  {
   "cell_type": "markdown",
   "metadata": {},
   "source": [
    "## RandomForestClassifier (without tuning)"
   ]
  },
  {
   "cell_type": "code",
   "execution_count": 31,
   "metadata": {},
   "outputs": [
    {
     "name": "stdout",
     "output_type": "stream",
     "text": [
      "Accuracy: 0.938\n",
      "Confusion matrix: [[844  11]\n",
      " [ 51  94]]\n",
      "Random Forest classifier prediction evaluation\n",
      "              precision    recall  f1-score   support\n",
      "\n",
      "           0       0.94      0.99      0.96       855\n",
      "           1       0.90      0.65      0.75       145\n",
      "\n",
      "    accuracy                           0.94      1000\n",
      "   macro avg       0.92      0.82      0.86      1000\n",
      "weighted avg       0.94      0.94      0.93      1000\n",
      "\n"
     ]
    },
    {
     "name": "stderr",
     "output_type": "stream",
     "text": [
      "/Users/shantaniloypaul/opt/anaconda3/lib/python3.7/site-packages/sklearn/ensemble/forest.py:245: FutureWarning: The default value of n_estimators will change from 10 in version 0.20 to 100 in 0.22.\n",
      "  \"10 in version 0.20 to 100 in 0.22.\", FutureWarning)\n"
     ]
    }
   ],
   "source": [
    "# Import RandomForestClassifier\n",
    "from sklearn.ensemble import RandomForestClassifier\n",
    "\n",
    "# Instantiate the classifier\n",
    "clf = RandomForestClassifier()\n",
    "\n",
    "# Fit to the training data\n",
    "clf.fit(X_train,y_train)\n",
    "\n",
    "y_pred_RF = clf.predict(X_test)\n",
    "# Compute accuracy\n",
    "print(\"Accuracy:\",clf.score(X_test, y_test))\n",
    "\n",
    "from sklearn.metrics import confusion_matrix\n",
    "\n",
    "# Print the confusion matrix\n",
    "print(\"Confusion matrix:\",confusion_matrix(y_test,y_pred_RF))\n",
    "\n",
    "from sklearn.metrics import classification_report\n",
    "print(\"Random Forest classifier prediction evaluation\")\n",
    "print(classification_report(y_test, y_pred_RF, target_names=['0', '1']))"
   ]
  },
  {
   "cell_type": "markdown",
   "metadata": {},
   "source": [
    "## Hyperparameter Tuning for RF"
   ]
  },
  {
   "cell_type": "code",
   "execution_count": 32,
   "metadata": {},
   "outputs": [
    {
     "name": "stderr",
     "output_type": "stream",
     "text": [
      "/Users/shantaniloypaul/opt/anaconda3/lib/python3.7/site-packages/sklearn/model_selection/_split.py:1978: FutureWarning: The default value of cv will change from 3 to 5 in version 0.22. Specify it explicitly to silence this warning.\n",
      "  warnings.warn(CV_WARNING, FutureWarning)\n"
     ]
    },
    {
     "data": {
      "text/plain": [
       "{'bootstrap': False,\n",
       " 'criterion': 'entropy',\n",
       " 'max_depth': None,\n",
       " 'max_features': 10}"
      ]
     },
     "execution_count": 32,
     "metadata": {},
     "output_type": "execute_result"
    }
   ],
   "source": [
    "# Import GridSearchCV\n",
    "from sklearn.model_selection import GridSearchCV\n",
    "\n",
    "# Create the hyperparameter grid\n",
    "param_grid = {\"max_depth\": [3, None],\n",
    "              \"max_features\": [1, 3, 10],\n",
    "              \"bootstrap\": [True, False],\n",
    "              \"criterion\": [\"gini\", \"entropy\"]}\n",
    "\n",
    "# Call GridSearchCV\n",
    "grid_search = GridSearchCV(clf, param_grid)\n",
    "\n",
    "# Fit the model\n",
    "grid_search.fit(X_train,y_train)\n",
    "grid_search.best_params_"
   ]
  },
  {
   "cell_type": "markdown",
   "metadata": {},
   "source": [
    "## RandomForestClassifier (with tuning)"
   ]
  },
  {
   "cell_type": "code",
   "execution_count": 33,
   "metadata": {},
   "outputs": [
    {
     "name": "stderr",
     "output_type": "stream",
     "text": [
      "/Users/shantaniloypaul/opt/anaconda3/lib/python3.7/site-packages/sklearn/ensemble/forest.py:245: FutureWarning: The default value of n_estimators will change from 10 in version 0.20 to 100 in 0.22.\n",
      "  \"10 in version 0.20 to 100 in 0.22.\", FutureWarning)\n"
     ]
    },
    {
     "name": "stdout",
     "output_type": "stream",
     "text": [
      "Accuracy: 0.948\n",
      "Confusion matrix: [[843  12]\n",
      " [ 40 105]]\n",
      "Random Forest classifier prediction evaluation\n",
      "              precision    recall  f1-score   support\n",
      "\n",
      "           0       0.95      0.99      0.97       855\n",
      "           1       0.90      0.72      0.80       145\n",
      "\n",
      "    accuracy                           0.95      1000\n",
      "   macro avg       0.93      0.86      0.89      1000\n",
      "weighted avg       0.95      0.95      0.95      1000\n",
      "\n"
     ]
    }
   ],
   "source": [
    "# Import RandomForestClassifier\n",
    "from sklearn.ensemble import RandomForestClassifier\n",
    "\n",
    "# Instantiate the classifier\n",
    "clf_RF_tuned = RandomForestClassifier(bootstrap= False,\n",
    " criterion ='entropy',\n",
    " max_depth = None,\n",
    " max_features =10)\n",
    "\n",
    "# Fit to the training data\n",
    "clf_RF_tuned.fit(X_train,y_train)\n",
    "\n",
    "y_pred_Tuned_RF = clf_RF_tuned.predict(X_test)\n",
    "# Compute accuracy\n",
    "print(\"Accuracy:\",clf_RF_tuned.score(X_test, y_test))\n",
    "\n",
    "from sklearn.metrics import confusion_matrix\n",
    "\n",
    "# Print the confusion matrix\n",
    "print(\"Confusion matrix:\",confusion_matrix(y_test,y_pred_Tuned_RF))\n",
    "\n",
    "from sklearn.metrics import classification_report\n",
    "print(\"Random Forest classifier prediction evaluation\")\n",
    "print(classification_report(y_test, y_pred_Tuned_RF, target_names=['0', '1']))"
   ]
  },
  {
   "cell_type": "code",
   "execution_count": 34,
   "metadata": {},
   "outputs": [
    {
     "data": {
      "image/png": "[encoded data removed]",
      "text/plain": [
       "<Figure size 432x288 with 1 Axes>"
      ]
     },
     "metadata": {
      "needs_background": "light"
     },
     "output_type": "display_data"
    },
    {
     "name": "stdout",
     "output_type": "stream",
     "text": [
      "roc_auc_score: 0.8928171002218188\n"
     ]
    }
   ],
   "source": [
    "# Generate the probabilities\n",
    "y_pred_prob_RF = clf_RF_tuned.predict_proba(X_test)[:, 1]\n",
    "\n",
    "# Import roc_curve\n",
    "from sklearn.metrics import roc_curve\n",
    "\n",
    "# Calculate the roc metrics\n",
    "fpr, tpr, thresholds = roc_curve(y_test, y_pred_prob_RF)\n",
    "\n",
    "# Plot the ROC curve\n",
    "plt.plot(fpr,tpr)\n",
    "\n",
    "# Add labels and diagonal line\n",
    "plt.xlabel(\"False Positive Rate\")\n",
    "plt.ylabel(\"True Positive Rate\")\n",
    "plt.plot([0, 1], [0, 1], \"k--\")\n",
    "plt.show()\n",
    "\n",
    "# Import roc_auc_score\n",
    "from sklearn.metrics import roc_auc_score\n",
    "\n",
    "# Print the AUC\n",
    "print(\"roc_auc_score:\",roc_auc_score(y_test,y_pred_prob_RF))"
   ]
  },
  {
   "cell_type": "markdown",
   "metadata": {},
   "source": [
    "## SVM"
   ]
  },
  {
   "cell_type": "code",
   "execution_count": 35,
   "metadata": {},
   "outputs": [
    {
     "name": "stderr",
     "output_type": "stream",
     "text": [
      "/Users/shantaniloypaul/opt/anaconda3/lib/python3.7/site-packages/sklearn/svm/base.py:193: FutureWarning: The default value of gamma will change from 'auto' to 'scale' in version 0.22 to account better for unscaled features. Set gamma explicitly to 'auto' or 'scale' to avoid this warning.\n",
      "  \"avoid this warning.\", FutureWarning)\n"
     ]
    },
    {
     "name": "stdout",
     "output_type": "stream",
     "text": [
      "Accuracy: 0.855\n",
      "Confusion matrix: [[855   0]\n",
      " [145   0]]\n",
      "Precision: 0.0\n",
      "Recall: 0.0\n"
     ]
    },
    {
     "name": "stderr",
     "output_type": "stream",
     "text": [
      "/Users/shantaniloypaul/opt/anaconda3/lib/python3.7/site-packages/sklearn/metrics/classification.py:1437: UndefinedMetricWarning: Precision is ill-defined and being set to 0.0 due to no predicted samples.\n",
      "  'precision', 'predicted', average, warn_for)\n"
     ]
    }
   ],
   "source": [
    "#Import SVM\n",
    "from sklearn.svm import SVC\n",
    "from sklearn.metrics import accuracy_score, confusion_matrix, precision_recall_fscore_support\n",
    "\n",
    "clf_SVM = SVC(probability=True)\n",
    "clf_SVM.fit(X_train, y_train)\n",
    "y_pred_SVM = clf_SVM.predict(X_test)\n",
    "\n",
    "# Compute accuracy\n",
    "print(\"Accuracy:\",clf_SVM.score(X_test, y_test))\n",
    "\n",
    "from sklearn.metrics import confusion_matrix\n",
    "\n",
    "# Print the confusion matrix\n",
    "print(\"Confusion matrix:\",confusion_matrix(y_test,y_pred_SVM))\n",
    "\n",
    "# Import precision_score\n",
    "from sklearn.metrics import precision_score\n",
    "\n",
    "# Print the precision\n",
    "print(\"Precision:\",precision_score(y_test,y_pred_SVM))\n",
    "\n",
    "# Import recall_score\n",
    "from sklearn.metrics import recall_score\n",
    "\n",
    "# Print the recall\n",
    "print(\"Recall:\",recall_score(y_test, y_pred_SVM))"
   ]
  },
  {
   "cell_type": "code",
   "execution_count": 36,
   "metadata": {},
   "outputs": [
    {
     "data": {
      "image/png": "[encoded data removed]",
      "text/plain": [
       "<Figure size 432x288 with 1 Axes>"
      ]
     },
     "metadata": {
      "needs_background": "light"
     },
     "output_type": "display_data"
    }
   ],
   "source": [
    "# Generate the probabilities\n",
    "y_pred_prob_SVM = clf_SVM.predict_proba(X_test)[:, 1]\n",
    "\n",
    "# Calculate the roc metrics\n",
    "fpr, tpr, thresholds = roc_curve(y_test, y_pred_prob_SVM)\n",
    "\n",
    "# Plot the ROC curve\n",
    "plt.plot(fpr,tpr)\n",
    "\n",
    "# Add labels and diagonal line\n",
    "plt.xlabel(\"False Positive Rate\")\n",
    "plt.ylabel(\"True Positive Rate\")\n",
    "plt.plot([0, 1], [0, 1], \"k--\")\n",
    "plt.show()\n",
    "\n"
   ]
  },
  {
   "cell_type": "markdown",
   "metadata": {},
   "source": [
    "## Logistic Regression"
   ]
  },
  {
   "cell_type": "code",
   "execution_count": 37,
   "metadata": {},
   "outputs": [
    {
     "name": "stdout",
     "output_type": "stream",
     "text": [
      "Accuracy: 0.865\n",
      "Confusion matrix: [[828  27]\n",
      " [108  37]]\n",
      "Random Forest classifier prediction evaluation\n",
      "              precision    recall  f1-score   support\n",
      "\n",
      "           0       0.88      0.97      0.92       855\n",
      "           1       0.58      0.26      0.35       145\n",
      "\n",
      "    accuracy                           0.86      1000\n",
      "   macro avg       0.73      0.61      0.64      1000\n",
      "weighted avg       0.84      0.86      0.84      1000\n",
      "\n"
     ]
    },
    {
     "name": "stderr",
     "output_type": "stream",
     "text": [
      "/Users/shantaniloypaul/opt/anaconda3/lib/python3.7/site-packages/sklearn/linear_model/logistic.py:432: FutureWarning: Default solver will be changed to 'lbfgs' in 0.22. Specify a solver to silence this warning.\n",
      "  FutureWarning)\n"
     ]
    }
   ],
   "source": [
    "#Logistic Regression\n",
    "from sklearn.linear_model import LogisticRegression\n",
    "# Instantiate the classifier\n",
    "clf_LG = LogisticRegression()\n",
    "\n",
    "# Fit to the training data\n",
    "clf_LG.fit(X_train,y_train)\n",
    "\n",
    "y_pred_LG = clf_LG.predict(X_test)\n",
    "# Compute accuracy\n",
    "print(\"Accuracy:\",clf_LG.score(X_test, y_test))\n",
    "\n",
    "from sklearn.metrics import confusion_matrix\n",
    "\n",
    "# Print the confusion matrix\n",
    "print(\"Confusion matrix:\",confusion_matrix(y_test,y_pred_LG))\n",
    "\n",
    "from sklearn.metrics import classification_report\n",
    "print(\"Random Forest classifier prediction evaluation\")\n",
    "print(classification_report(y_test, y_pred_LG, target_names=['0', '1']))"
   ]
  },
  {
   "cell_type": "code",
   "execution_count": 38,
   "metadata": {},
   "outputs": [
    {
     "data": {
      "image/png": "[encoded data removed]",
      "text/plain": [
       "<Figure size 432x288 with 1 Axes>"
      ]
     },
     "metadata": {
      "needs_background": "light"
     },
     "output_type": "display_data"
    },
    {
     "name": "stdout",
     "output_type": "stream",
     "text": [
      "roc_auc_score: 0.901250252066949\n"
     ]
    }
   ],
   "source": [
    "# Generate the probabilities\n",
    "y_pred_prob_LG = clf.predict_proba(X_test)[:, 1]\n",
    "\n",
    "# Import roc_curve\n",
    "from sklearn.metrics import roc_curve\n",
    "\n",
    "# Calculate the roc metrics\n",
    "fpr, tpr, thresholds = roc_curve(y_test, y_pred_prob_LG)\n",
    "\n",
    "# Plot the ROC curve\n",
    "plt.plot(fpr,tpr)\n",
    "\n",
    "# Add labels and diagonal line\n",
    "plt.xlabel(\"False Positive Rate\")\n",
    "plt.ylabel(\"True Positive Rate\")\n",
    "plt.plot([0, 1], [0, 1], \"k--\")\n",
    "plt.show()\n",
    "\n",
    "# Import roc_auc_score\n",
    "from sklearn.metrics import roc_auc_score\n",
    "\n",
    "# Print the AUC\n",
    "print(\"roc_auc_score:\",roc_auc_score(y_test,y_pred_prob_LG))"
   ]
  },
  {
   "cell_type": "code",
   "execution_count": null,
   "metadata": {},
   "outputs": [],
   "source": []
  }
 ],
 "metadata": {
  "kernelspec": {
   "display_name": "Python 3",
   "language": "python",
   "name": "python3"
  },
  "language_info": {
   "codemirror_mode": {
    "name": "ipython",
    "version": 3
   },
   "file_extension": ".py",
   "mimetype": "text/x-python",
   "name": "python",
   "nbconvert_exporter": "python",
   "pygments_lexer": "ipython3",
   "version": "3.7.4"
  }
 },
 "nbformat": 4,
 "nbformat_minor": 2
}
